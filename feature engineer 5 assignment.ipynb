{
 "cells": [
  {
   "cell_type": "code",
   "execution_count": null,
   "id": "f701be09-627b-4d8f-82bf-a7efa60d9cfe",
   "metadata": {},
   "outputs": [],
   "source": [
    "##Q-1"
   ]
  },
  {
   "cell_type": "code",
   "execution_count": null,
   "id": "fb5a5eb5-b2ba-420c-9948-75dd022792fe",
   "metadata": {},
   "outputs": [],
   "source": [
    "Ordinal encoding and label encoding are both techniques used in machine learning to convert categorical data into numerical format, \n",
    "but they differ in their application and use cases.\n",
    "\n",
    "Label Encoding:\n",
    "In label encoding, each unique category is assigned a unique integer label.\n",
    "The order of the labels does not have any significance.\n",
    "It is suitable for nominal data (categories with no inherent order).\n",
    "Example: Consider a \"Color\" feature with categories 'Red,' 'Green,' and 'Blue' encoded as 0, 1, and 2, respectively."
   ]
  },
  {
   "cell_type": "code",
   "execution_count": 1,
   "id": "33b3678c-6320-401f-b834-f77d6a094ef6",
   "metadata": {},
   "outputs": [
    {
     "name": "stdout",
     "output_type": "stream",
     "text": [
      "[2 1 0]\n"
     ]
    }
   ],
   "source": [
    "from sklearn.preprocessing import LabelEncoder\n",
    "\n",
    "colors = ['Red', 'Green', 'Blue']\n",
    "label_encoder = LabelEncoder()\n",
    "encoded_colors = label_encoder.fit_transform(colors)\n",
    "\n",
    "print(encoded_colors)\n",
    "\n"
   ]
  },
  {
   "cell_type": "code",
   "execution_count": null,
   "id": "043fa87a-e478-4b58-9434-d5f14c006989",
   "metadata": {},
   "outputs": [],
   "source": [
    "Ordinal Encoding:\n",
    "In ordinal encoding, the categories are assigned integer labels based on their inherent order or rank.\n",
    "The order of the labels matters and reflects the ordinal relationship between the categories.\n",
    "It is suitable for ordinal data (categories with a meaningful order).\n",
    "Example: Consider an \"Education Level\" feature with categories 'High School,' 'Bachelor's,' 'Master's,' and 'Ph.D.' encoded as 0, 1, 2, and 3, respectively."
   ]
  },
  {
   "cell_type": "code",
   "execution_count": 3,
   "id": "67fa09d8-8c7c-4ad1-8956-d7f6b9e76900",
   "metadata": {},
   "outputs": [
    {
     "name": "stdout",
     "output_type": "stream",
     "text": [
      "[0, 1, 2, 3]\n"
     ]
    }
   ],
   "source": [
    "education_levels = ['High School', 'Bachelor\\'s', 'Master\\'s', 'Ph.D.']\n",
    "ordinal_mapping = {'High School': 0, 'Bachelor\\'s': 1, 'Master\\'s': 2, 'Ph.D.': 3}\n",
    "\n",
    "# Map the categories to their ordinal values\n",
    "ordinal_encoded_education = [ordinal_mapping[level] for level in education_levels]\n",
    "\n",
    "print(ordinal_encoded_education)\n"
   ]
  },
  {
   "cell_type": "code",
   "execution_count": null,
   "id": "be8e4eaf-ff93-4b61-8f87-a0d66683afd1",
   "metadata": {},
   "outputs": [],
   "source": [
    "When to choose one over the other:\n",
    "\n",
    "Use Label Encoding when there is no inherent order or ranking among the categories, i.e., for nominal data.\n",
    "Use Ordinal Encoding when there is a meaningful order or ranking among the categories, i.e., for ordinal data.\n",
    "For example, in a machine learning model predicting student performance, you might use ordinal encoding for the \"Education Level\" feature since there is a natural order (High School < Bachelor's < Master's < Ph.D.). On the other hand, you might use label encoding for the \"Color\" feature,\n",
    "where there is no inherent order among the categories."
   ]
  },
  {
   "cell_type": "code",
   "execution_count": null,
   "id": "6168769f-19fc-4965-ab31-454d2dc0b7d0",
   "metadata": {},
   "outputs": [],
   "source": [
    "##Q-2"
   ]
  },
  {
   "cell_type": "code",
   "execution_count": null,
   "id": "9713f76c-7b31-40a2-a953-3f58ff283867",
   "metadata": {},
   "outputs": [],
   "source": [
    "\n",
    "Target Guided Ordinal Encoding is a technique used to encode categorical variables based on the relationship between the categories and the target variable in a supervised machine learning problem. The idea is to assign ordinal labels to the categories based on their mean or median target variable values. This encoding can be particularly useful when dealing with categorical features that have an ordinal relationship with the target variable.\n",
    "\n",
    "Here are the general steps for Target Guided Ordinal Encoding:\n",
    "\n",
    "Calculate the mean or median of the target variable for each category in the categorical feature.\n",
    "Order the categories based on their mean or median values.\n",
    "Assign ordinal labels to the categories based on the order established in step 2.\n",
    "Let's illustrate this with an example:\n",
    "\n",
    "Suppose you have a dataset with a categorical feature \"Education Level\" and a binary target variable indicating whether a student passed (1) or failed (0) an exam. You want to encode \"Education Level\" using Target Guided Ordinal Encoding."
   ]
  },
  {
   "cell_type": "code",
   "execution_count": 4,
   "id": "ef8c3dac-8155-47fd-b909-ea4fdddc4639",
   "metadata": {},
   "outputs": [
    {
     "name": "stdout",
     "output_type": "stream",
     "text": [
      "Training Set:\n",
      "   Education Level\n",
      "5                2\n",
      "2                1\n",
      "4                0\n",
      "3                3\n",
      "6                1\n",
      "\n",
      "Testing Set:\n",
      "   Education Level\n",
      "0                2\n",
      "1                0\n"
     ]
    }
   ],
   "source": [
    "import pandas as pd\n",
    "from sklearn.model_selection import train_test_split\n",
    "from sklearn.preprocessing import LabelEncoder\n",
    "\n",
    "# Sample data\n",
    "data = {'Education Level': ['High School', 'Bachelor\\'s', 'Master\\'s', 'Ph.D.', 'Bachelor\\'s', 'High School', 'Master\\'s'],\n",
    "        'Pass Exam': [1, 1, 0, 1, 0, 1, 0]}\n",
    "\n",
    "df = pd.DataFrame(data)\n",
    "\n",
    "# Separate features and target\n",
    "X = df[['Education Level']]\n",
    "y = df['Pass Exam']\n",
    "\n",
    "# Split the data into training and testing sets\n",
    "X_train, X_test, y_train, y_test = train_test_split(X, y, test_size=0.2, random_state=42)\n",
    "\n",
    "# Calculate mean target value for each category\n",
    "education_level_means = X_train.join(y_train).groupby('Education Level')['Pass Exam'].mean().sort_values()\n",
    "\n",
    "# Create a mapping based on the order of mean target values\n",
    "ordinal_mapping = {level: i for i, level in enumerate(education_level_means.index)}\n",
    "\n",
    "# Apply the mapping to the training and testing sets\n",
    "X_train['Education Level'] = X_train['Education Level'].map(ordinal_mapping)\n",
    "X_test['Education Level'] = X_test['Education Level'].map(ordinal_mapping)\n",
    "\n",
    "# Display the encoded data\n",
    "print(\"Training Set:\")\n",
    "print(X_train)\n",
    "print(\"\\nTesting Set:\")\n",
    "print(X_test)\n"
   ]
  },
  {
   "cell_type": "code",
   "execution_count": null,
   "id": "d5c81bbd-c283-4572-ad3b-7d5ac65e7eae",
   "metadata": {},
   "outputs": [],
   "source": [
    "In this example, \"Education Level\" is encoded based on the mean pass rate for each category in the training set. \n",
    "The resulting ordinal encoding reflects the relationship between education levels and the likelihood of passing the exam.\n",
    "\n",
    "You might use Target Guided Ordinal Encoding when you believe there is a meaningful order among the categories,\n",
    "and you want to capture the impact of the categorical feature on the target variable in a graded manner. This can be especially useful in situations where the ordinal relationship between categories is important for the predictive modeling task at hand."
   ]
  },
  {
   "cell_type": "code",
   "execution_count": null,
   "id": "6230aef1-a945-4231-b647-7ecef6389451",
   "metadata": {},
   "outputs": [],
   "source": [
    "##Q-3"
   ]
  },
  {
   "cell_type": "code",
   "execution_count": null,
   "id": "49a3bf8c-2b29-4a32-9fb5-49855a294c0a",
   "metadata": {},
   "outputs": [],
   "source": [
    "\n",
    "Covariance:\n",
    "Covariance is a statistical measure that quantifies the degree to which two variables change together. It indicates whether an increase in one variable is associated with an increase or decrease in another variable. In other words, covariance measures the directional relationship between two variables.\n",
    "\n",
    "If the covariance is positive, it suggests that as one variable increases, the other variable tends to increase as well.\n",
    "If the covariance is negative, it suggests that as one variable increases, the other variable tends to decrease.\n",
    "Importance in Statistical Analysis:\n",
    "Covariance is important in statistical analysis for several reasons:\n",
    "\n",
    "Relationship Assessment: Covariance helps in understanding the direction of the linear relationship between two variables. A positive covariance indicates a positive linear relationship, while a negative covariance indicates a negative linear relationship.\n",
    "\n",
    "Scale Independence: Covariance is not scaled between 0 and 1, making it less sensitive to the scale of the variables. However, interpreting the magnitude of covariance directly can be challenging.\n",
    "\n",
    "Risk and Portfolio Analysis: In finance, covariance is used in the context of portfolio analysis. Positive covariance between asset returns implies that the assets tend to move in the same direction, while negative covariance suggests diversification benefits.\n",
    "\n",
    "Calculation of Covariance:\n",
    "The covariance between two variables, X and Y, can be calculated using the following formula:\n",
    "\n",
    "Cov\n",
    "(\n",
    "�\n",
    ",\n",
    "�\n",
    ")\n",
    "=\n",
    "∑\n",
    "�\n",
    "=\n",
    "1\n",
    "�\n",
    "(\n",
    "�\n",
    "�\n",
    "−\n",
    "�\n",
    "ˉ\n",
    ")\n",
    "(\n",
    "�\n",
    "�\n",
    "−\n",
    "�\n",
    "ˉ\n",
    ")\n",
    "�\n",
    "−\n",
    "1\n",
    "Cov(X,Y)= \n",
    "n−1\n",
    "∑ \n",
    "i=1\n",
    "n\n",
    "​\n",
    " (X \n",
    "i\n",
    "​\n",
    " − \n",
    "X\n",
    "ˉ\n",
    " )(Y \n",
    "i\n",
    "​\n",
    " − \n",
    "Y\n",
    "ˉ\n",
    " )\n",
    "​\n",
    " \n",
    "\n",
    "Where:\n",
    "\n",
    "�\n",
    "�\n",
    "X \n",
    "i\n",
    "​\n",
    "  and \n",
    "�\n",
    "�\n",
    "Y \n",
    "i\n",
    "​\n",
    "  are individual data points for variables X and Y.\n",
    "�\n",
    "ˉ\n",
    "X\n",
    "ˉ\n",
    "  and \n",
    "�\n",
    "ˉ\n",
    "Y\n",
    "ˉ\n",
    "  are the means of variables X and Y, respectively.\n",
    "�\n",
    "n is the number of data points.\n",
    "In words, covariance is the average of the product of the differences between each variable's value and its mean. The division by \n",
    "�\n",
    "−\n",
    "1\n",
    "n−1 (rather than \n",
    "�\n",
    "n) is known as Bessel's correction and is used to make the sample covariance an unbiased estimator of the population covariance.\n",
    "\n",
    "It's important to note that the magnitude of covariance doesn't provide a clear measure of the strength of the relationship between variables, as it depends on the scales of the variables. For a standardized measure, the correlation coefficient is often used, which is the covariance divided by the product of the standard deviations of the variables."
   ]
  },
  {
   "cell_type": "code",
   "execution_count": null,
   "id": "086d68e0-485f-46e1-adfc-0df05e4ca940",
   "metadata": {},
   "outputs": [],
   "source": [
    "##Q-4"
   ]
  },
  {
   "cell_type": "code",
   "execution_count": 5,
   "id": "4b0e0081-9acf-41f8-8282-47eddb42fb24",
   "metadata": {},
   "outputs": [
    {
     "name": "stdout",
     "output_type": "stream",
     "text": [
      "   Color    Size Material  Color_encoded  Size_encoded  Material_encoded\n",
      "0    red   small     wood              2             2                 2\n",
      "1  green  medium    metal              1             1                 0\n",
      "2   blue   large  plastic              0             0                 1\n",
      "3    red   small     wood              2             2                 2\n",
      "4   blue  medium    metal              0             1                 0\n"
     ]
    }
   ],
   "source": [
    "from sklearn.preprocessing import LabelEncoder\n",
    "import pandas as pd\n",
    "\n",
    "# Sample data\n",
    "data = {'Color': ['red', 'green', 'blue', 'red', 'blue'],\n",
    "        'Size': ['small', 'medium', 'large', 'small', 'medium'],\n",
    "        'Material': ['wood', 'metal', 'plastic', 'wood', 'metal']}\n",
    "\n",
    "df = pd.DataFrame(data)\n",
    "\n",
    "# Initialize LabelEncoder\n",
    "label_encoder = LabelEncoder()\n",
    "\n",
    "# Apply label encoding to each column\n",
    "df['Color_encoded'] = label_encoder.fit_transform(df['Color'])\n",
    "df['Size_encoded'] = label_encoder.fit_transform(df['Size'])\n",
    "df['Material_encoded'] = label_encoder.fit_transform(df['Material'])\n",
    "\n",
    "# Display the encoded DataFrame\n",
    "print(df)\n"
   ]
  },
  {
   "cell_type": "code",
   "execution_count": null,
   "id": "611a4d9a-feb5-41b7-bb10-9b44cb73af88",
   "metadata": {},
   "outputs": [],
   "source": [
    "Explanation of the output:\n",
    "\n",
    "The LabelEncoder is used to transform each categorical column into numerical labels.\n",
    "The fit_transform method is called to fit the encoder on the unique values in each categorical column and transform them into numerical labels.\n",
    "Three new columns (Color_encoded, Size_encoded, and Material_encoded) are added to the DataFrame to store the encoded values."
   ]
  },
  {
   "cell_type": "code",
   "execution_count": null,
   "id": "cf48c555-dfd3-40c1-8342-3fa9581e0b1b",
   "metadata": {},
   "outputs": [],
   "source": [
    "##Q-5"
   ]
  },
  {
   "cell_type": "code",
   "execution_count": 6,
   "id": "d371c084-e0a1-4027-a574-78cb8b9162a7",
   "metadata": {},
   "outputs": [
    {
     "name": "stdout",
     "output_type": "stream",
     "text": [
      "Covariance Matrix:\n",
      "[[ 6.25000000e+01  1.12500000e+05 -1.11022302e-16]\n",
      " [ 1.12500000e+05  2.55000000e+08  4.00000000e+03]\n",
      " [-1.11022302e-16  4.00000000e+03  7.00000000e-01]]\n"
     ]
    }
   ],
   "source": [
    "import numpy as np\n",
    "\n",
    "# Sample data\n",
    "# Replace the values with your actual dataset\n",
    "age = np.array([25, 30, 35, 40, 45])\n",
    "income = np.array([50000, 60000, 75000, 90000, 80000])\n",
    "education_level = np.array([1, 2, 3, 2, 1])  # Replace with appropriate ordinal encoding\n",
    "\n",
    "# Stack the variables into a 2D array (each variable is a column)\n",
    "data = np.vstack((age, income, education_level)).T\n",
    "\n",
    "# Calculate the covariance matrix\n",
    "covariance_matrix = np.cov(data, rowvar=False)\n",
    "\n",
    "print(\"Covariance Matrix:\")\n",
    "print(covariance_matrix)\n"
   ]
  },
  {
   "cell_type": "code",
   "execution_count": null,
   "id": "8ed6fc33-f706-4f09-883b-e43498fe4949",
   "metadata": {},
   "outputs": [],
   "source": [
    "Interpreting the results:\n",
    "\n",
    "The covariance matrix will be a 3x3 matrix since you have three variables (Age, Income, Education Level).\n",
    "The diagonal elements of the covariance matrix represent the variances of each variable.\n",
    "The off-diagonal elements represent the covariances between pairs of variables.\n",
    "Without knowing the actual values of your data, I can't provide specific interpretations, but I can give you a general idea:\n",
    "\n",
    "If the off-diagonal elements are positive, it indicates a positive covariance, suggesting that as one variable increases, the other tends to increase as well.\n",
    "If the off-diagonal elements are negative, it indicates a negative covariance, suggesting that as one variable increases, the other tends to decrease.\n",
    "The magnitude of the covariance values doesn't provide a clear measure of the strength of the relationship, as it depends on the scale of the variables.\n",
    "To better understand the relationships, you might also want to consider calculating the correlation matrix, which standardizes the covariances by dividing them by the product of the standard deviations of the variables. The correlation values will be between -1 and 1, providing a clearer measure of the strength and direction of the linear relationships.\n",
    "\n",
    "\n",
    "\n",
    "\n",
    "\n"
   ]
  },
  {
   "cell_type": "code",
   "execution_count": null,
   "id": "b3d7322f-5131-400c-93be-d617d1694bc2",
   "metadata": {},
   "outputs": [],
   "source": [
    "##Q-6"
   ]
  },
  {
   "cell_type": "code",
   "execution_count": null,
   "id": "48a17d2a-1577-4ee0-b535-724dec8120de",
   "metadata": {},
   "outputs": [],
   "source": [
    "Choosing the appropriate encoding method for categorical variables depends on the nature of the variables and their relationships with the target variable. Here are recommendations for encoding the given categorical variables: \"Gender,\" \"Education Level,\" and \"Employment Status.\"\n",
    "\n",
    "Gender:\n",
    "\n",
    "Encoding Method: Label Encoding or One-Hot Encoding.\n",
    "Explanation:\n",
    "For \"Gender,\" you can use label encoding because there are only two categories: Male and Female. Assigning 0 or 1 to represent these categories is straightforward.\n",
    "Alternatively, you can use one-hot encoding, which creates binary columns for each category. This can be beneficial if your machine learning algorithm assumes that numeric values have an ordinal relationship, or if you want to avoid implying an ordinal relationship when using label encoding.\n",
    "Education Level:\n",
    "\n",
    "Encoding Method: Ordinal Encoding.\n",
    "Explanation:\n",
    "\"Education Level\" has an inherent ordinal relationship, as it represents different levels of education from High School to PhD. Using ordinal encoding preserves this order and can be useful for models that can leverage the ordinal nature of the variable.\n",
    "Employment Status:\n",
    "\n",
    "Encoding Method: One-Hot Encoding.\n",
    "Explanation:\n",
    "\"Employment Status\" doesn't have a clear ordinal relationship, and different categories are not inherently ordered. Using one-hot encoding is suitable in this case. Each category will be represented by a binary column, and the model won't assume any ordinal relationship between the employment statuses"
   ]
  },
  {
   "cell_type": "code",
   "execution_count": 8,
   "id": "fe46c3df-aa02-45a4-b7f3-53407821a456",
   "metadata": {},
   "outputs": [
    {
     "name": "stdout",
     "output_type": "stream",
     "text": [
      "   Gender Education Level Employment Status  Gender_encoded  \\\n",
      "0    Male     High School        Unemployed               1   \n",
      "1  Female      Bachelor's         Part-Time               0   \n",
      "2    Male        Master's         Full-Time               1   \n",
      "3  Female             PhD         Part-Time               0   \n",
      "\n",
      "   Education_Level_encoded  Employment_Status_Part-Time  \\\n",
      "0                        0                          0.0   \n",
      "1                        1                          1.0   \n",
      "2                        2                          0.0   \n",
      "3                        3                          1.0   \n",
      "\n",
      "   Employment_Status_Full-Time  \n",
      "0                          1.0  \n",
      "1                          0.0  \n",
      "2                          0.0  \n",
      "3                          0.0  \n"
     ]
    },
    {
     "name": "stderr",
     "output_type": "stream",
     "text": [
      "/opt/conda/lib/python3.10/site-packages/sklearn/preprocessing/_encoders.py:808: FutureWarning: `sparse` was renamed to `sparse_output` in version 1.2 and will be removed in 1.4. `sparse_output` is ignored unless you leave `sparse` to its default value.\n",
      "  warnings.warn(\n"
     ]
    }
   ],
   "source": [
    "from sklearn.preprocessing import LabelEncoder, OrdinalEncoder, OneHotEncoder\n",
    "import pandas as pd\n",
    "\n",
    "# Sample data\n",
    "data = {'Gender': ['Male', 'Female', 'Male', 'Female'],\n",
    "        'Education Level': ['High School', 'Bachelor\\'s', 'Master\\'s', 'PhD'],\n",
    "        'Employment Status': ['Unemployed', 'Part-Time', 'Full-Time', 'Part-Time']}\n",
    "\n",
    "df = pd.DataFrame(data)\n",
    "\n",
    "# Label Encoding for Gender\n",
    "label_encoder_gender = LabelEncoder()\n",
    "df['Gender_encoded'] = label_encoder_gender.fit_transform(df['Gender'])\n",
    "\n",
    "# Ordinal Encoding for Education Level\n",
    "ordinal_mapping = {'High School': 0, 'Bachelor\\'s': 1, 'Master\\'s': 2, 'PhD': 3}\n",
    "df['Education_Level_encoded'] = df['Education Level'].map(ordinal_mapping)\n",
    "\n",
    "# One-Hot Encoding for Employment Status\n",
    "one_hot_encoder_employment = OneHotEncoder(drop='first', sparse=False)\n",
    "employment_encoded = one_hot_encoder_employment.fit_transform(df[['Employment Status']])\n",
    "employment_encoded_df = pd.DataFrame(employment_encoded, columns=['Employment_Status_Part-Time', 'Employment_Status_Full-Time'])\n",
    "df = pd.concat([df, employment_encoded_df], axis=1)\n",
    "\n",
    "# Display the encoded DataFrame\n",
    "print(df)\n"
   ]
  },
  {
   "cell_type": "code",
   "execution_count": null,
   "id": "badd63d9-420c-4ab2-b9e4-85dc221164d7",
   "metadata": {},
   "outputs": [],
   "source": []
  }
 ],
 "metadata": {
  "kernelspec": {
   "display_name": "Python 3 (ipykernel)",
   "language": "python",
   "name": "python3"
  },
  "language_info": {
   "codemirror_mode": {
    "name": "ipython",
    "version": 3
   },
   "file_extension": ".py",
   "mimetype": "text/x-python",
   "name": "python",
   "nbconvert_exporter": "python",
   "pygments_lexer": "ipython3",
   "version": "3.10.8"
  }
 },
 "nbformat": 4,
 "nbformat_minor": 5
}
